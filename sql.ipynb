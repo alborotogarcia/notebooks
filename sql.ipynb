{
 "cells": [
  {
   "cell_type": "markdown",
   "id": "f8f7cd3f-1009-4046-8588-c98dd9a30283",
   "metadata": {},
   "source": [
    "# SQL Magics (Pyspark + Iceberg)"
   ]
  },
  {
   "cell_type": "code",
   "execution_count": 1,
   "id": "a1359e27-472b-4cbf-8035-3206d2b2aed8",
   "metadata": {
    "tags": []
   },
   "outputs": [],
   "source": [
    "import duckdb\n",
    "import pandas as pd\n",
    "import matplotlib"
   ]
  },
  {
   "cell_type": "code",
   "execution_count": 6,
   "id": "3aa6f0df-bc0b-4b25-9783-76c01a65911b",
   "metadata": {
    "tags": []
   },
   "outputs": [
    {
     "data": {
      "text/html": [
       "<table>\n",
       "    <thead>\n",
       "        <tr>\n",
       "        </tr>\n",
       "    </thead>\n",
       "    <tbody>\n",
       "    </tbody>\n",
       "</table>"
      ],
      "text/plain": [
       "++\n",
       "||\n",
       "++\n",
       "++"
      ]
     },
     "execution_count": 6,
     "metadata": {},
     "output_type": "execute_result"
    }
   ],
   "source": [
    "%%sql\n",
    "CREATE DATABASE IF NOT EXISTS hive.nyc;"
   ]
  },
  {
   "cell_type": "code",
   "execution_count": 7,
   "id": "b6f53bb1-c94b-4308-8415-7e9f580b41cd",
   "metadata": {
    "tags": []
   },
   "outputs": [
    {
     "data": {
      "text/html": [
       "<table>\n",
       "    <thead>\n",
       "        <tr>\n",
       "        </tr>\n",
       "    </thead>\n",
       "    <tbody>\n",
       "    </tbody>\n",
       "</table>"
      ],
      "text/plain": [
       "++\n",
       "||\n",
       "++\n",
       "++"
      ]
     },
     "execution_count": 7,
     "metadata": {},
     "output_type": "execute_result"
    }
   ],
   "source": [
    "%%sql\n",
    "CREATE TABLE IF NOT EXISTS hive.nyc.taxis (\n",
    "    VendorID              bigint,\n",
    "\n",
    "\n",
    "    tpep_pickup_datetime  timestamp,\n",
    "    tpep_dropoff_datetime timestamp,\n",
    "    passenger_count       double,\n",
    "    trip_distance         double,\n",
    "    RatecodeID            double,\n",
    "    store_and_fwd_flag    string,\n",
    "    PULocationID          bigint,\n",
    "    DOLocationID          bigint,\n",
    "    payment_type          bigint,\n",
    "    fare_amount           double,\n",
    "    extra                 double,\n",
    "    mta_tax               double,\n",
    "    tip_amount            double,\n",
    "    tolls_amount          double,\n",
    "    improvement_surcharge double,\n",
    "    total_amount          double,\n",
    "    congestion_surcharge  double,\n",
    "    airport_fee           double\n",
    ")\n",
    "USING iceberg\n",
    "PARTITIONED BY (days(tpep_pickup_datetime))\n"
   ]
  },
  {
   "cell_type": "code",
   "execution_count": 8,
   "id": "097173fd-f944-43c9-88b4-e9087207d8a3",
   "metadata": {
    "tags": []
   },
   "outputs": [
    {
     "name": "stdout",
     "output_type": "stream",
     "text": [
      "--2024-05-11 18:03:51--  https://d37ci6vzurychx.cloudfront.net/trip-data/yellow_tripdata_2021-12.parquet\n",
      "Resolving d37ci6vzurychx.cloudfront.net (d37ci6vzurychx.cloudfront.net)... 3.160.226.228, 3.160.226.111, 3.160.226.161, ...\n",
      "Connecting to d37ci6vzurychx.cloudfront.net (d37ci6vzurychx.cloudfront.net)|3.160.226.228|:443... connected.\n",
      "HTTP request sent, awaiting response... 200 OK\n",
      "Length: 49639052 (47M) [application/x-www-form-urlencoded]\n",
      "Saving to: ‘yellow_tripdata_2021-12.parquet.2’\n",
      "\n",
      "yellow_tripdata_202 100%[===================>]  47.34M  45.5MB/s    in 1.0s    \n",
      "\n",
      "2024-05-11 18:03:52 (45.5 MB/s) - ‘yellow_tripdata_2021-12.parquet.2’ saved [49639052/49639052]\n",
      "\n",
      "--2024-05-11 18:03:52--  https://d37ci6vzurychx.cloudfront.net/trip-data/yellow_tripdata_2022-01.parquet\n",
      "Resolving d37ci6vzurychx.cloudfront.net (d37ci6vzurychx.cloudfront.net)... 3.160.226.228, 3.160.226.111, 3.160.226.161, ...\n",
      "Connecting to d37ci6vzurychx.cloudfront.net (d37ci6vzurychx.cloudfront.net)|3.160.226.228|:443... connected.\n",
      "HTTP request sent, awaiting response... 200 OK\n",
      "Length: 38139949 (36M) [application/x-www-form-urlencoded]\n",
      "Saving to: ‘yellow_tripdata_2022-01.parquet.2’\n",
      "\n",
      "yellow_tripdata_202 100%[===================>]  36.37M  42.2MB/s    in 0.9s    \n",
      "\n",
      "2024-05-11 18:03:53 (42.2 MB/s) - ‘yellow_tripdata_2022-01.parquet.2’ saved [38139949/38139949]\n",
      "\n",
      "--2024-05-11 18:03:53--  https://d37ci6vzurychx.cloudfront.net/trip-data/yellow_tripdata_2022-02.parquet\n",
      "Resolving d37ci6vzurychx.cloudfront.net (d37ci6vzurychx.cloudfront.net)... 3.160.226.228, 3.160.226.111, 3.160.226.161, ...\n",
      "Connecting to d37ci6vzurychx.cloudfront.net (d37ci6vzurychx.cloudfront.net)|3.160.226.228|:443... connected.\n",
      "HTTP request sent, awaiting response... 200 OK\n",
      "Length: 45616512 (44M) [application/x-www-form-urlencoded]\n",
      "Saving to: ‘yellow_tripdata_2022-02.parquet.2’\n",
      "\n",
      "yellow_tripdata_202 100%[===================>]  43.50M  44.7MB/s    in 1.0s    \n",
      "\n",
      "2024-05-11 18:03:54 (44.7 MB/s) - ‘yellow_tripdata_2022-02.parquet.2’ saved [45616512/45616512]\n",
      "\n",
      "--2024-05-11 18:03:55--  https://d37ci6vzurychx.cloudfront.net/trip-data/yellow_tripdata_2022-03.parquet\n",
      "Resolving d37ci6vzurychx.cloudfront.net (d37ci6vzurychx.cloudfront.net)... 3.160.226.228, 3.160.226.111, 3.160.226.161, ...\n",
      "Connecting to d37ci6vzurychx.cloudfront.net (d37ci6vzurychx.cloudfront.net)|3.160.226.228|:443... connected.\n",
      "HTTP request sent, awaiting response... 200 OK\n",
      "Length: 55682369 (53M) [application/x-www-form-urlencoded]\n",
      "Saving to: ‘yellow_tripdata_2022-03.parquet.2’\n",
      "\n",
      "yellow_tripdata_202 100%[===================>]  53.10M  43.8MB/s    in 1.2s    \n",
      "\n",
      "2024-05-11 18:03:56 (43.8 MB/s) - ‘yellow_tripdata_2022-03.parquet.2’ saved [55682369/55682369]\n",
      "\n"
     ]
    }
   ],
   "source": [
    "# https://github.com/toddwschneider/nyc-taxi-data/blob/master/setup_files/raw_data_urls.txt\n",
    "# %cd work\n",
    "!wget https://d37ci6vzurychx.cloudfront.net/trip-data/yellow_tripdata_2021-12.parquet\n",
    "!wget https://d37ci6vzurychx.cloudfront.net/trip-data/yellow_tripdata_2022-01.parquet\n",
    "!wget https://d37ci6vzurychx.cloudfront.net/trip-data/yellow_tripdata_2022-02.parquet\n",
    "!wget https://d37ci6vzurychx.cloudfront.net/trip-data/yellow_tripdata_2022-03.parquet"
   ]
  },
  {
   "cell_type": "code",
   "execution_count": 9,
   "id": "4cba2703-9fc0-4023-9b76-1de9f7637f07",
   "metadata": {
    "tags": []
   },
   "outputs": [],
   "source": [
    "from pyspark.sql import SparkSession\n",
    "# spark = SparkSession.builder.appName(\"Jupyter\").getOrCreate()\n",
    "spark = SparkSession.builder.appName(\"Jupyter\")\\\n",
    "    .config(\"spark.jars.packages\", \"org.apache.iceberg:iceberg-spark-runtime-3.5_2.13:1.5.2,org.duckdb:duckdb_jdbc:0.10.2\")\\\n",
    "    .config(\"spark.hadoop.datanucleus.schema.autoCreateTables\",\"true\")\\\n",
    "    .config(\"spark.hadoop.datanucleus.schema.autoCreateSchema\",\"true\")\\\n",
    "    .config(\"spark.sql.catalog.hive\",\"org.apache.iceberg.spark.SparkCatalog\")\\\n",
    "    .config(\"spark.sql.catalog.hive.uri\",\"thrift://metastore:9083\")\\\n",
    "    .config(\"spark.sql.catalog.hive.type\",\"hadoop\")\\\n",
    "    .config(\"spark.sql.catalog.hive.warehouse\",\"/home/jovyan/spark-datawarehouse\")\\\n",
    "    .getOrCreate()\n",
    "\n",
    "for filename in [\n",
    "    \"yellow_tripdata_2022-03.parquet\",\n",
    "    \"yellow_tripdata_2022-02.parquet\",\n",
    "    \"yellow_tripdata_2022-01.parquet\",\n",
    "    \"yellow_tripdata_2021-12.parquet\",\n",
    "]:\n",
    "    df = spark.read.parquet(f\"{filename}\").sortWithinPartitions(\"tpep_pickup_datetime\")\n",
    "    df.write.mode(\"append\").saveAsTable(\"hive.nyc.taxis\")\n"
   ]
  },
  {
   "cell_type": "code",
   "execution_count": 10,
   "id": "f314d4bb-ec78-490c-a305-4a5e6354eaad",
   "metadata": {},
   "outputs": [
    {
     "name": "stdout",
     "output_type": "stream",
     "text": [
      "+--------+--------------------+---------------------+---------------+-------------+----------+------------------+------------+------------+------------+-----------+-----+-------+----------+------------+---------------------+------------+--------------------+-----------+\n",
      "|VendorID|tpep_pickup_datetime|tpep_dropoff_datetime|passenger_count|trip_distance|RatecodeID|store_and_fwd_flag|PULocationID|DOLocationID|payment_type|fare_amount|extra|mta_tax|tip_amount|tolls_amount|improvement_surcharge|total_amount|congestion_surcharge|airport_fee|\n",
      "+--------+--------------------+---------------------+---------------+-------------+----------+------------------+------------+------------+------------+-----------+-----+-------+----------+------------+---------------------+------------+--------------------+-----------+\n",
      "|       2| 2022-02-25 00:00:00|  2022-02-25 00:13:44|            1.0|         3.69|       1.0|                 N|         163|           7|           2|       13.5|  0.5|    0.5|       0.0|         0.0|                  0.3|        17.3|                 2.5|        0.0|\n",
      "|       2| 2022-02-25 00:00:00|  2022-02-25 00:17:49|            1.0|         3.29|       1.0|                 N|         162|         158|           1|       13.5|  0.5|    0.5|      3.46|         0.0|                  0.3|       20.76|                 2.5|        0.0|\n",
      "|       2| 2022-02-25 00:00:00|  2022-02-25 00:00:00|            1.0|        12.01|       1.0|                 N|         141|          37|           1|       37.5|  0.0|    0.5|      7.91|         0.0|                  0.3|       47.46|                 0.0|       1.25|\n",
      "|       2| 2022-02-25 00:00:00|  2022-02-25 00:10:00|           NULL|         2.79|      NULL|              NULL|         114|         255|           0|      12.78|  0.0|    0.5|      2.61|         0.0|                  0.3|       18.69|                NULL|       NULL|\n",
      "|       2| 2022-02-25 00:00:00|  2022-02-25 00:15:00|           NULL|         4.38|      NULL|              NULL|         114|         141|           0|      17.71|  0.0|    0.5|      3.42|         0.0|                  0.3|       24.43|                NULL|       NULL|\n",
      "|       2| 2022-02-25 00:00:01|  2022-02-25 00:02:30|            1.0|         0.43|       1.0|                 N|          79|          79|           1|        4.0|  0.5|    0.5|       0.0|         0.0|                  0.3|         7.8|                 2.5|        0.0|\n",
      "|       2| 2022-02-25 00:00:04|  2022-02-25 00:10:40|            1.0|         1.76|       1.0|                 N|         244|         243|           2|        8.0|  0.5|    0.5|       0.0|         0.0|                  0.3|         9.3|                 0.0|        0.0|\n",
      "|       2| 2022-02-25 00:00:06|  2022-02-25 00:09:34|            1.0|         1.18|       1.0|                 N|         230|         233|           2|        7.5|  0.5|    0.5|       0.0|         0.0|                  0.3|        11.3|                 2.5|        0.0|\n",
      "|       1| 2022-02-25 00:00:10|  2022-02-25 00:33:02|            2.0|          9.0|       1.0|                 N|         161|          49|           1|       31.5|  3.0|    0.5|     10.55|         0.0|                  0.3|       45.85|                 2.5|        0.0|\n",
      "|       2| 2022-02-25 00:00:11|  2022-02-25 00:14:12|            1.0|         4.05|       1.0|                 N|         186|         237|           1|       14.0|  0.5|    0.5|       1.0|         0.0|                  0.3|        18.8|                 2.5|        0.0|\n",
      "|       2| 2022-02-25 00:00:11|  2022-02-25 00:21:00|            1.0|         6.39|       1.0|                 N|         263|         249|           1|       22.0|  0.5|    0.5|      5.16|         0.0|                  0.3|       30.96|                 2.5|        0.0|\n",
      "|       2| 2022-02-25 00:00:12|  2022-02-25 00:20:42|            1.0|         5.22|       1.0|                 N|         249|          75|           1|       18.0|  0.5|    0.5|      4.36|         0.0|                  0.3|       26.16|                 2.5|        0.0|\n",
      "|       2| 2022-02-25 00:00:12|  2022-02-25 00:02:53|            1.0|         0.88|       1.0|                 N|          48|          48|           1|        4.5|  0.5|    0.5|      2.08|         0.0|                  0.3|       10.38|                 2.5|        0.0|\n",
      "|       1| 2022-02-25 00:00:12|  2022-02-25 00:06:56|            1.0|          2.3|       1.0|                 N|         231|         186|           1|        8.5|  3.0|    0.5|       3.0|         0.0|                  0.3|        15.3|                 2.5|        0.0|\n",
      "|       2| 2022-02-25 00:00:14|  2022-02-25 00:15:46|            1.0|          3.5|       1.0|                 N|         100|          43|           1|       14.0|  0.5|    0.5|      3.56|         0.0|                  0.3|       21.36|                 2.5|        0.0|\n",
      "|       1| 2022-02-25 00:00:15|  2022-02-25 00:15:24|            2.0|          7.4|       1.0|                 N|         138|          98|           1|       22.0|  0.5|    0.5|      4.65|         0.0|                  0.3|       27.95|                 0.0|        0.0|\n",
      "|       2| 2022-02-25 00:00:15|  2022-02-25 00:17:07|            1.0|         5.49|       1.0|                 N|         107|         238|           1|       18.5|  0.5|    0.5|      4.46|         0.0|                  0.3|       26.76|                 2.5|        0.0|\n",
      "|       2| 2022-02-25 00:00:16|  2022-02-25 00:07:37|            1.0|         0.83|       1.0|                 N|         229|         163|           1|        6.5|  0.5|    0.5|      2.06|         0.0|                  0.3|       12.36|                 2.5|        0.0|\n",
      "|       1| 2022-02-25 00:00:17|  2022-02-25 00:32:46|            3.0|         10.8|       1.0|                 N|         234|          89|           1|       33.5|  3.0|    0.5|       1.0|         0.0|                  0.3|        38.3|                 2.5|        0.0|\n",
      "|       1| 2022-02-25 00:00:18|  2022-02-25 00:07:59|            1.0|          1.5|       1.0|                 N|          48|         162|           1|        7.0|  3.0|    0.5|       2.7|         0.0|                  0.3|        13.5|                 2.5|        0.0|\n",
      "+--------+--------------------+---------------------+---------------+-------------+----------+------------------+------------+------------+------------+-----------+-----+-------+----------+------------+---------------------+------------+--------------------+-----------+\n",
      "only showing top 20 rows\n",
      "\n"
     ]
    }
   ],
   "source": [
    "df = spark.sql(\"select * from hive.nyc.taxis\")\n",
    "df.show()"
   ]
  },
  {
   "cell_type": "code",
   "execution_count": 11,
   "id": "0a000d01-f718-4282-bbf7-6e618ce371bf",
   "metadata": {},
   "outputs": [
    {
     "data": {
      "text/html": [
       "<table>\n",
       "    <thead>\n",
       "        <tr>\n",
       "            <th>VendorID</th>\n",
       "            <th>tpep_pickup_datetime</th>\n",
       "            <th>tpep_dropoff_datetime</th>\n",
       "            <th>passenger_count</th>\n",
       "            <th>trip_distance</th>\n",
       "            <th>RatecodeID</th>\n",
       "            <th>store_and_fwd_flag</th>\n",
       "            <th>PULocationID</th>\n",
       "            <th>DOLocationID</th>\n",
       "            <th>payment_type</th>\n",
       "            <th>fare_amount</th>\n",
       "            <th>extra</th>\n",
       "            <th>mta_tax</th>\n",
       "            <th>tip_amount</th>\n",
       "            <th>tolls_amount</th>\n",
       "            <th>improvement_surcharge</th>\n",
       "            <th>total_amount</th>\n",
       "            <th>congestion_surcharge</th>\n",
       "            <th>airport_fee</th>\n",
       "        </tr>\n",
       "    </thead>\n",
       "    <tbody>\n",
       "        <tr>\n",
       "            <td>2</td>\n",
       "            <td>2022-01-09 00:00:00</td>\n",
       "            <td>2022-01-09 00:08:00</td>\n",
       "            <td>None</td>\n",
       "            <td>1.65</td>\n",
       "            <td>None</td>\n",
       "            <td>None</td>\n",
       "            <td>40</td>\n",
       "            <td>25</td>\n",
       "            <td>0</td>\n",
       "            <td>13.2</td>\n",
       "            <td>0.0</td>\n",
       "            <td>0.5</td>\n",
       "            <td>3.0</td>\n",
       "            <td>0.0</td>\n",
       "            <td>0.3</td>\n",
       "            <td>17.0</td>\n",
       "            <td>None</td>\n",
       "            <td>None</td>\n",
       "        </tr>\n",
       "        <tr>\n",
       "            <td>2</td>\n",
       "            <td>2022-01-09 00:00:00</td>\n",
       "            <td>2022-01-09 00:09:27</td>\n",
       "            <td>1.0</td>\n",
       "            <td>3.91</td>\n",
       "            <td>1.0</td>\n",
       "            <td>N</td>\n",
       "            <td>163</td>\n",
       "            <td>74</td>\n",
       "            <td>1</td>\n",
       "            <td>12.5</td>\n",
       "            <td>0.5</td>\n",
       "            <td>0.5</td>\n",
       "            <td>4.08</td>\n",
       "            <td>0.0</td>\n",
       "            <td>0.3</td>\n",
       "            <td>20.38</td>\n",
       "            <td>2.5</td>\n",
       "            <td>0.0</td>\n",
       "        </tr>\n",
       "        <tr>\n",
       "            <td>2</td>\n",
       "            <td>2022-01-09 00:00:01</td>\n",
       "            <td>2022-01-09 00:01:52</td>\n",
       "            <td>1.0</td>\n",
       "            <td>0.33</td>\n",
       "            <td>1.0</td>\n",
       "            <td>N</td>\n",
       "            <td>263</td>\n",
       "            <td>237</td>\n",
       "            <td>1</td>\n",
       "            <td>3.5</td>\n",
       "            <td>0.5</td>\n",
       "            <td>0.5</td>\n",
       "            <td>1.0</td>\n",
       "            <td>0.0</td>\n",
       "            <td>0.3</td>\n",
       "            <td>8.3</td>\n",
       "            <td>2.5</td>\n",
       "            <td>0.0</td>\n",
       "        </tr>\n",
       "        <tr>\n",
       "            <td>2</td>\n",
       "            <td>2022-01-09 00:00:02</td>\n",
       "            <td>2022-01-09 00:02:36</td>\n",
       "            <td>1.0</td>\n",
       "            <td>0.64</td>\n",
       "            <td>1.0</td>\n",
       "            <td>N</td>\n",
       "            <td>161</td>\n",
       "            <td>164</td>\n",
       "            <td>2</td>\n",
       "            <td>4.0</td>\n",
       "            <td>0.5</td>\n",
       "            <td>0.5</td>\n",
       "            <td>0.0</td>\n",
       "            <td>0.0</td>\n",
       "            <td>0.3</td>\n",
       "            <td>7.8</td>\n",
       "            <td>2.5</td>\n",
       "            <td>0.0</td>\n",
       "        </tr>\n",
       "        <tr>\n",
       "            <td>2</td>\n",
       "            <td>2022-01-09 00:00:03</td>\n",
       "            <td>2022-01-09 00:12:38</td>\n",
       "            <td>2.0</td>\n",
       "            <td>3.92</td>\n",
       "            <td>1.0</td>\n",
       "            <td>N</td>\n",
       "            <td>234</td>\n",
       "            <td>236</td>\n",
       "            <td>1</td>\n",
       "            <td>13.5</td>\n",
       "            <td>0.5</td>\n",
       "            <td>0.5</td>\n",
       "            <td>3.46</td>\n",
       "            <td>0.0</td>\n",
       "            <td>0.3</td>\n",
       "            <td>20.76</td>\n",
       "            <td>2.5</td>\n",
       "            <td>0.0</td>\n",
       "        </tr>\n",
       "        <tr>\n",
       "            <td>2</td>\n",
       "            <td>2022-01-09 00:00:04</td>\n",
       "            <td>2022-01-09 00:03:20</td>\n",
       "            <td>3.0</td>\n",
       "            <td>0.65</td>\n",
       "            <td>1.0</td>\n",
       "            <td>N</td>\n",
       "            <td>90</td>\n",
       "            <td>249</td>\n",
       "            <td>1</td>\n",
       "            <td>4.5</td>\n",
       "            <td>0.5</td>\n",
       "            <td>0.5</td>\n",
       "            <td>5.0</td>\n",
       "            <td>0.0</td>\n",
       "            <td>0.3</td>\n",
       "            <td>13.3</td>\n",
       "            <td>2.5</td>\n",
       "            <td>0.0</td>\n",
       "        </tr>\n",
       "        <tr>\n",
       "            <td>2</td>\n",
       "            <td>2022-01-09 00:00:04</td>\n",
       "            <td>2022-01-09 00:02:51</td>\n",
       "            <td>3.0</td>\n",
       "            <td>0.72</td>\n",
       "            <td>1.0</td>\n",
       "            <td>N</td>\n",
       "            <td>151</td>\n",
       "            <td>238</td>\n",
       "            <td>1</td>\n",
       "            <td>4.5</td>\n",
       "            <td>0.5</td>\n",
       "            <td>0.5</td>\n",
       "            <td>1.0</td>\n",
       "            <td>0.0</td>\n",
       "            <td>0.3</td>\n",
       "            <td>9.3</td>\n",
       "            <td>2.5</td>\n",
       "            <td>0.0</td>\n",
       "        </tr>\n",
       "        <tr>\n",
       "            <td>2</td>\n",
       "            <td>2022-01-09 00:00:04</td>\n",
       "            <td>2022-01-09 00:15:02</td>\n",
       "            <td>1.0</td>\n",
       "            <td>3.95</td>\n",
       "            <td>1.0</td>\n",
       "            <td>N</td>\n",
       "            <td>238</td>\n",
       "            <td>68</td>\n",
       "            <td>1</td>\n",
       "            <td>14.5</td>\n",
       "            <td>0.5</td>\n",
       "            <td>0.5</td>\n",
       "            <td>1.0</td>\n",
       "            <td>0.0</td>\n",
       "            <td>0.3</td>\n",
       "            <td>19.3</td>\n",
       "            <td>2.5</td>\n",
       "            <td>0.0</td>\n",
       "        </tr>\n",
       "        <tr>\n",
       "            <td>2</td>\n",
       "            <td>2022-01-09 00:00:04</td>\n",
       "            <td>2022-01-09 00:13:47</td>\n",
       "            <td>1.0</td>\n",
       "            <td>4.34</td>\n",
       "            <td>1.0</td>\n",
       "            <td>N</td>\n",
       "            <td>125</td>\n",
       "            <td>141</td>\n",
       "            <td>1</td>\n",
       "            <td>14.0</td>\n",
       "            <td>0.5</td>\n",
       "            <td>0.5</td>\n",
       "            <td>0.0</td>\n",
       "            <td>0.0</td>\n",
       "            <td>0.3</td>\n",
       "            <td>17.8</td>\n",
       "            <td>2.5</td>\n",
       "            <td>0.0</td>\n",
       "        </tr>\n",
       "        <tr>\n",
       "            <td>2</td>\n",
       "            <td>2022-01-09 00:00:06</td>\n",
       "            <td>2022-01-09 00:12:41</td>\n",
       "            <td>1.0</td>\n",
       "            <td>4.77</td>\n",
       "            <td>1.0</td>\n",
       "            <td>N</td>\n",
       "            <td>42</td>\n",
       "            <td>136</td>\n",
       "            <td>2</td>\n",
       "            <td>16.0</td>\n",
       "            <td>0.5</td>\n",
       "            <td>0.5</td>\n",
       "            <td>0.0</td>\n",
       "            <td>0.0</td>\n",
       "            <td>0.3</td>\n",
       "            <td>17.3</td>\n",
       "            <td>0.0</td>\n",
       "            <td>0.0</td>\n",
       "        </tr>\n",
       "    </tbody>\n",
       "</table>"
      ],
      "text/plain": [
       "+----------+----------------------+-----------------------+-----------------+---------------+------------+--------------------+--------------+--------------+--------------+-------------+-------+---------+------------+--------------+-----------------------+--------------+----------------------+-------------+\n",
       "| VendorID | tpep_pickup_datetime | tpep_dropoff_datetime | passenger_count | trip_distance | RatecodeID | store_and_fwd_flag | PULocationID | DOLocationID | payment_type | fare_amount | extra | mta_tax | tip_amount | tolls_amount | improvement_surcharge | total_amount | congestion_surcharge | airport_fee |\n",
       "+----------+----------------------+-----------------------+-----------------+---------------+------------+--------------------+--------------+--------------+--------------+-------------+-------+---------+------------+--------------+-----------------------+--------------+----------------------+-------------+\n",
       "|        2 |  2022-01-09 00:00:00 |   2022-01-09 00:08:00 |            None |          1.65 |       None |               None |           40 |           25 |            0 |        13.2 |   0.0 |     0.5 |        3.0 |          0.0 |                   0.3 |         17.0 |                 None |        None |\n",
       "|        2 |  2022-01-09 00:00:00 |   2022-01-09 00:09:27 |             1.0 |          3.91 |        1.0 |                  N |          163 |           74 |            1 |        12.5 |   0.5 |     0.5 |       4.08 |          0.0 |                   0.3 |        20.38 |                  2.5 |         0.0 |\n",
       "|        2 |  2022-01-09 00:00:01 |   2022-01-09 00:01:52 |             1.0 |          0.33 |        1.0 |                  N |          263 |          237 |            1 |         3.5 |   0.5 |     0.5 |        1.0 |          0.0 |                   0.3 |          8.3 |                  2.5 |         0.0 |\n",
       "|        2 |  2022-01-09 00:00:02 |   2022-01-09 00:02:36 |             1.0 |          0.64 |        1.0 |                  N |          161 |          164 |            2 |         4.0 |   0.5 |     0.5 |        0.0 |          0.0 |                   0.3 |          7.8 |                  2.5 |         0.0 |\n",
       "|        2 |  2022-01-09 00:00:03 |   2022-01-09 00:12:38 |             2.0 |          3.92 |        1.0 |                  N |          234 |          236 |            1 |        13.5 |   0.5 |     0.5 |       3.46 |          0.0 |                   0.3 |        20.76 |                  2.5 |         0.0 |\n",
       "|        2 |  2022-01-09 00:00:04 |   2022-01-09 00:03:20 |             3.0 |          0.65 |        1.0 |                  N |           90 |          249 |            1 |         4.5 |   0.5 |     0.5 |        5.0 |          0.0 |                   0.3 |         13.3 |                  2.5 |         0.0 |\n",
       "|        2 |  2022-01-09 00:00:04 |   2022-01-09 00:02:51 |             3.0 |          0.72 |        1.0 |                  N |          151 |          238 |            1 |         4.5 |   0.5 |     0.5 |        1.0 |          0.0 |                   0.3 |          9.3 |                  2.5 |         0.0 |\n",
       "|        2 |  2022-01-09 00:00:04 |   2022-01-09 00:15:02 |             1.0 |          3.95 |        1.0 |                  N |          238 |           68 |            1 |        14.5 |   0.5 |     0.5 |        1.0 |          0.0 |                   0.3 |         19.3 |                  2.5 |         0.0 |\n",
       "|        2 |  2022-01-09 00:00:04 |   2022-01-09 00:13:47 |             1.0 |          4.34 |        1.0 |                  N |          125 |          141 |            1 |        14.0 |   0.5 |     0.5 |        0.0 |          0.0 |                   0.3 |         17.8 |                  2.5 |         0.0 |\n",
       "|        2 |  2022-01-09 00:00:06 |   2022-01-09 00:12:41 |             1.0 |          4.77 |        1.0 |                  N |           42 |          136 |            2 |        16.0 |   0.5 |     0.5 |        0.0 |          0.0 |                   0.3 |         17.3 |                  0.0 |         0.0 |\n",
       "+----------+----------------------+-----------------------+-----------------+---------------+------------+--------------------+--------------+--------------+--------------+-------------+-------+---------+------------+--------------+-----------------------+--------------+----------------------+-------------+"
      ]
     },
     "execution_count": 11,
     "metadata": {},
     "output_type": "execute_result"
    }
   ],
   "source": [
    "%%sql\n",
    "select * from hive.nyc.taxis limit 10"
   ]
  },
  {
   "cell_type": "markdown",
   "id": "ce6dcf37-f466-4fce-be76-d500887947e6",
   "metadata": {},
   "source": [
    "# SQL Magics (DuckDB)"
   ]
  },
  {
   "cell_type": "code",
   "execution_count": 2,
   "id": "8c6102ee-3242-4f29-ad3f-b37dfcd19b13",
   "metadata": {
    "tags": []
   },
   "outputs": [
    {
     "data": {
      "text/html": [
       "<div>\n",
       "<style scoped>\n",
       "    .dataframe tbody tr th:only-of-type {\n",
       "        vertical-align: middle;\n",
       "    }\n",
       "\n",
       "    .dataframe tbody tr th {\n",
       "        vertical-align: top;\n",
       "    }\n",
       "\n",
       "    .dataframe thead th {\n",
       "        text-align: right;\n",
       "    }\n",
       "</style>\n",
       "<table border=\"1\" class=\"dataframe\">\n",
       "  <thead>\n",
       "    <tr style=\"text-align: right;\">\n",
       "      <th></th>\n",
       "      <th>a_duckdb_column</th>\n",
       "    </tr>\n",
       "  </thead>\n",
       "  <tbody>\n",
       "    <tr>\n",
       "      <th>0</th>\n",
       "      <td>Off and flying!</td>\n",
       "    </tr>\n",
       "  </tbody>\n",
       "</table>\n",
       "</div>"
      ],
      "text/plain": [
       "   a_duckdb_column\n",
       "0  Off and flying!"
      ]
     },
     "execution_count": 2,
     "metadata": {},
     "output_type": "execute_result"
    }
   ],
   "source": [
    "# No need to import duckdb_engine\n",
    "#  jupysql will auto-detect the driver needed based on the connection string!\n",
    "! export PLOOMBER_STATS_ENABLED=false\n",
    "\n",
    "%reload_ext sql\n",
    "\n",
    "%config SqlMagic.autopandas = True\n",
    "%config SqlMagic.feedback = False\n",
    "%config SqlMagic.displaycon = False\n",
    "\n",
    "\n",
    "%sql duckdb:///:memory:\n",
    "# %sql duckdb:///path/to/file.db\n",
    "%sql SELECT 'Off and flying!' as a_duckdb_column"
   ]
  },
  {
   "cell_type": "code",
   "execution_count": 3,
   "id": "e59b9a01-5f7b-4ad6-912c-89bc292e21b3",
   "metadata": {
    "tags": []
   },
   "outputs": [
    {
     "data": {
      "text/html": [
       "<div>\n",
       "<style scoped>\n",
       "    .dataframe tbody tr th:only-of-type {\n",
       "        vertical-align: middle;\n",
       "    }\n",
       "\n",
       "    .dataframe tbody tr th {\n",
       "        vertical-align: top;\n",
       "    }\n",
       "\n",
       "    .dataframe thead th {\n",
       "        text-align: right;\n",
       "    }\n",
       "</style>\n",
       "<table border=\"1\" class=\"dataframe\">\n",
       "  <thead>\n",
       "    <tr style=\"text-align: right;\">\n",
       "      <th></th>\n",
       "      <th>schema_name</th>\n",
       "      <th>function_name</th>\n",
       "    </tr>\n",
       "  </thead>\n",
       "  <tbody>\n",
       "    <tr>\n",
       "      <th>0</th>\n",
       "      <td>pg_catalog</td>\n",
       "      <td>shobj_description</td>\n",
       "    </tr>\n",
       "    <tr>\n",
       "      <th>1</th>\n",
       "      <td>pg_catalog</td>\n",
       "      <td>shobj_description</td>\n",
       "    </tr>\n",
       "    <tr>\n",
       "      <th>2</th>\n",
       "      <td>pg_catalog</td>\n",
       "      <td>shobj_description</td>\n",
       "    </tr>\n",
       "    <tr>\n",
       "      <th>3</th>\n",
       "      <td>pg_catalog</td>\n",
       "      <td>pg_typeof</td>\n",
       "    </tr>\n",
       "    <tr>\n",
       "      <th>4</th>\n",
       "      <td>pg_catalog</td>\n",
       "      <td>pg_typeof</td>\n",
       "    </tr>\n",
       "  </tbody>\n",
       "</table>\n",
       "</div>"
      ],
      "text/plain": [
       "  schema_name      function_name\n",
       "0  pg_catalog  shobj_description\n",
       "1  pg_catalog  shobj_description\n",
       "2  pg_catalog  shobj_description\n",
       "3  pg_catalog          pg_typeof\n",
       "4  pg_catalog          pg_typeof"
      ]
     },
     "execution_count": 3,
     "metadata": {},
     "output_type": "execute_result"
    }
   ],
   "source": [
    "%%sql\n",
    "SELECT\n",
    "    schema_name,\n",
    "    function_name\n",
    "FROM duckdb_functions()\n",
    "ORDER BY ALL DESC\n",
    "LIMIT 5"
   ]
  },
  {
   "cell_type": "code",
   "execution_count": 4,
   "id": "dac0da3f-210f-40fb-96c0-e77b82a406d7",
   "metadata": {
    "tags": []
   },
   "outputs": [],
   "source": [
    "%sql my_df << SELECT 'Off and flying!' as a_duckdb_column"
   ]
  },
  {
   "cell_type": "code",
   "execution_count": 5,
   "id": "90d2eceb-d231-49ef-a09f-0cfbe412a68a",
   "metadata": {
    "tags": []
   },
   "outputs": [],
   "source": [
    "input_df = pd.DataFrame.from_dict({\"i\":[1, 2, 3],\n",
    "                                  \"j\":[\"one\", \"two\", \"three\"]})\n"
   ]
  },
  {
   "cell_type": "code",
   "execution_count": 6,
   "id": "bdff3adf-06f0-402a-a0d5-4ae5d78f9643",
   "metadata": {
    "tags": []
   },
   "outputs": [],
   "source": [
    "%sql output_df << SELECT sum(i) as total_i FROM input_df"
   ]
  },
  {
   "cell_type": "code",
   "execution_count": 7,
   "id": "f1f49d3b-c0f0-4e9d-874c-4e0f01ffc885",
   "metadata": {
    "tags": []
   },
   "outputs": [
    {
     "data": {
      "text/html": [
       "<div>\n",
       "<style scoped>\n",
       "    .dataframe tbody tr th:only-of-type {\n",
       "        vertical-align: middle;\n",
       "    }\n",
       "\n",
       "    .dataframe tbody tr th {\n",
       "        vertical-align: top;\n",
       "    }\n",
       "\n",
       "    .dataframe thead th {\n",
       "        text-align: right;\n",
       "    }\n",
       "</style>\n",
       "<table border=\"1\" class=\"dataframe\">\n",
       "  <thead>\n",
       "    <tr style=\"text-align: right;\">\n",
       "      <th></th>\n",
       "      <th>Success</th>\n",
       "    </tr>\n",
       "  </thead>\n",
       "  <tbody>\n",
       "  </tbody>\n",
       "</table>\n",
       "</div>"
      ],
      "text/plain": [
       "Empty DataFrame\n",
       "Columns: [Success]\n",
       "Index: []"
      ]
     },
     "execution_count": 7,
     "metadata": {},
     "output_type": "execute_result"
    }
   ],
   "source": [
    "%%sql\n",
    "INSTALL httpfs;\n",
    "LOAD httpfs;"
   ]
  },
  {
   "cell_type": "code",
   "execution_count": 8,
   "id": "c83c7316-612f-42be-a707-cdf4332d9210",
   "metadata": {
    "tags": []
   },
   "outputs": [
    {
     "data": {
      "text/plain": [
       "<Axes: title={'center': '\\'trip_distance\\' from \\'\"https://d37ci6vzurychx.cloudfront.net/trip-data/yellow_tripdata_2021-01.parquet\"\\''}, ylabel='trip_distance'>"
      ]
     },
     "execution_count": 8,
     "metadata": {},
     "output_type": "execute_result"
    },
    {
     "data": {
      "image/png": "[encoded data removed]",
      "text/plain": [
       "<Figure size 640x480 with 1 Axes>"
      ]
     },
     "metadata": {},
     "output_type": "display_data"
    }
   ],
   "source": [
    "%sqlplot boxplot --table '\"https://d37ci6vzurychx.cloudfront.net/trip-data/yellow_tripdata_2021-01.parquet\"' --column trip_distance"
   ]
  },
  {
   "cell_type": "code",
   "execution_count": 11,
   "id": "a2b3fecd-f81d-45b7-8c2d-ea5c48993efc",
   "metadata": {},
   "outputs": [
    {
     "data": {
      "text/html": [
       "<span style=\"None\">Skipping execution...</span>"
      ],
      "text/plain": [
       "Skipping execution..."
      ]
     },
     "metadata": {},
     "output_type": "display_data"
    }
   ],
   "source": [
    "%%sql --save short_trips --no-execute\n",
    "SELECT *\n",
    "FROM 'https://d37ci6vzurychx.cloudfront.net/trip-data/yellow_tripdata_2021-01.parquet'\n",
    "WHERE trip_distance < 6.3"
   ]
  },
  {
   "cell_type": "code",
   "execution_count": 12,
   "id": "f92635d6-6c68-4818-9be6-71eff4005d56",
   "metadata": {},
   "outputs": [
    {
     "data": {
      "text/plain": [
       "<Axes: title={'center': \"'trip_distance' from 'short_trips'\"}, xlabel='trip_distance', ylabel='Count'>"
      ]
     },
     "execution_count": 12,
     "metadata": {},
     "output_type": "execute_result"
    },
    {
     "data": {
      "image/png": "[encoded data removed]",
      "text/plain": [
       "<Figure size 640x480 with 1 Axes>"
      ]
     },
     "metadata": {},
     "output_type": "display_data"
    }
   ],
   "source": [
    "%sqlplot histogram --table short_trips --column trip_distance --bins 10 --with short_trips"
   ]
  },
  {
   "cell_type": "code",
   "execution_count": null,
   "id": "854c23db-f1e8-4de2-a85c-d9efa4f6e604",
   "metadata": {},
   "outputs": [],
   "source": []
  }
 ],
 "metadata": {
  "kernelspec": {
   "display_name": "Python 3 (ipykernel)",
   "language": "python",
   "name": "python3"
  },
  "language_info": {
   "codemirror_mode": {
    "name": "ipython",
    "version": 3
   },
   "file_extension": ".py",
   "mimetype": "text/x-python",
   "name": "python",
   "nbconvert_exporter": "python",
   "pygments_lexer": "ipython3",
   "version": "3.11.9"
  }
 },
 "nbformat": 4,
 "nbformat_minor": 5
}
