{
 "cells": [
  {
   "cell_type": "markdown",
   "id": "f8f7cd3f-1009-4046-8588-c98dd9a30283",
   "metadata": {},
   "source": [
    "# SQL Magics (Pyspark + Iceberg)"
   ]
  },
  {
   "cell_type": "code",
   "execution_count": 1,
   "id": "a1359e27-472b-4cbf-8035-3206d2b2aed8",
   "metadata": {
    "tags": []
   },
   "outputs": [],
   "source": [
    "import duckdb\n",
    "import pandas as pd\n",
    "import matplotlib"
   ]
  },
  {
   "cell_type": "code",
   "execution_count": 2,
   "id": "3aa6f0df-bc0b-4b25-9783-76c01a65911b",
   "metadata": {
    "tags": []
   },
   "outputs": [
    {
     "data": {
      "text/html": [
       "<table>\n",
       "    <thead>\n",
       "        <tr>\n",
       "        </tr>\n",
       "    </thead>\n",
       "    <tbody>\n",
       "    </tbody>\n",
       "</table>"
      ],
      "text/plain": [
       "++\n",
       "||\n",
       "++\n",
       "++"
      ]
     },
     "execution_count": 2,
     "metadata": {},
     "output_type": "execute_result"
    }
   ],
   "source": [
    "%%sql\n",
    "CREATE DATABASE IF NOT EXISTS hive.nyc;"
   ]
  },
  {
   "cell_type": "code",
   "execution_count": 3,
   "id": "b6f53bb1-c94b-4308-8415-7e9f580b41cd",
   "metadata": {
    "tags": []
   },
   "outputs": [
    {
     "data": {
      "text/html": [
       "<table>\n",
       "    <thead>\n",
       "        <tr>\n",
       "        </tr>\n",
       "    </thead>\n",
       "    <tbody>\n",
       "    </tbody>\n",
       "</table>"
      ],
      "text/plain": [
       "++\n",
       "||\n",
       "++\n",
       "++"
      ]
     },
     "execution_count": 3,
     "metadata": {},
     "output_type": "execute_result"
    }
   ],
   "source": [
    "%%sql\n",
    "CREATE TABLE IF NOT EXISTS hive.nyc.taxis (\n",
    "    VendorID              bigint,\n",
    "\n",
    "\n",
    "    tpep_pickup_datetime  timestamp,\n",
    "    tpep_dropoff_datetime timestamp,\n",
    "    passenger_count       double,\n",
    "    trip_distance         double,\n",
    "    RatecodeID            double,\n",
    "    store_and_fwd_flag    string,\n",
    "    PULocationID          bigint,\n",
    "    DOLocationID          bigint,\n",
    "    payment_type          bigint,\n",
    "    fare_amount           double,\n",
    "    extra                 double,\n",
    "    mta_tax               double,\n",
    "    tip_amount            double,\n",
    "    tolls_amount          double,\n",
    "    improvement_surcharge double,\n",
    "    total_amount          double,\n",
    "    congestion_surcharge  double,\n",
    "    airport_fee           double\n",
    ")\n",
    "USING iceberg\n",
    "PARTITIONED BY (days(tpep_pickup_datetime))\n"
   ]
  },
  {
   "cell_type": "code",
   "execution_count": 4,
   "id": "097173fd-f944-43c9-88b4-e9087207d8a3",
   "metadata": {
    "tags": []
   },
   "outputs": [
    {
     "name": "stdout",
     "output_type": "stream",
     "text": [
      "[Errno 2] No such file or directory: 'work'\n",
      "/home/jovyan/notebooks\n",
      "--2023-12-10 09:33:33--  https://d37ci6vzurychx.cloudfront.net/trip-data/yellow_tripdata_2021-12.parquet\n",
      "Resolving d37ci6vzurychx.cloudfront.net (d37ci6vzurychx.cloudfront.net)... 3.160.226.161, 3.160.226.228, 3.160.226.111, ...\n",
      "Connecting to d37ci6vzurychx.cloudfront.net (d37ci6vzurychx.cloudfront.net)|3.160.226.161|:443... connected.\n",
      "HTTP request sent, awaiting response... 200 OK\n",
      "Length: 49639052 (47M) [application/x-www-form-urlencoded]\n",
      "Saving to: ‘yellow_tripdata_2021-12.parquet’\n",
      "\n",
      "yellow_tripdata_202 100%[===================>]  47.34M  31.7MB/s    in 1.5s    \n",
      "\n",
      "2023-12-10 09:33:35 (31.7 MB/s) - ‘yellow_tripdata_2021-12.parquet’ saved [49639052/49639052]\n",
      "\n",
      "--2023-12-10 09:33:36--  https://d37ci6vzurychx.cloudfront.net/trip-data/yellow_tripdata_2022-01.parquet\n",
      "Resolving d37ci6vzurychx.cloudfront.net (d37ci6vzurychx.cloudfront.net)... 3.160.226.161, 3.160.226.228, 3.160.226.111, ...\n",
      "Connecting to d37ci6vzurychx.cloudfront.net (d37ci6vzurychx.cloudfront.net)|3.160.226.161|:443... connected.\n",
      "HTTP request sent, awaiting response... 200 OK\n",
      "Length: 38139949 (36M) [application/x-www-form-urlencoded]\n",
      "Saving to: ‘yellow_tripdata_2022-01.parquet’\n",
      "\n",
      "yellow_tripdata_202 100%[===================>]  36.37M  53.5MB/s    in 0.7s    \n",
      "\n",
      "2023-12-10 09:33:36 (53.5 MB/s) - ‘yellow_tripdata_2022-01.parquet’ saved [38139949/38139949]\n",
      "\n",
      "--2023-12-10 09:33:37--  https://d37ci6vzurychx.cloudfront.net/trip-data/yellow_tripdata_2022-02.parquet\n",
      "Resolving d37ci6vzurychx.cloudfront.net (d37ci6vzurychx.cloudfront.net)... 3.160.226.161, 3.160.226.228, 3.160.226.111, ...\n",
      "Connecting to d37ci6vzurychx.cloudfront.net (d37ci6vzurychx.cloudfront.net)|3.160.226.161|:443... connected.\n",
      "HTTP request sent, awaiting response... 200 OK\n",
      "Length: 45616512 (44M) [application/x-www-form-urlencoded]\n",
      "Saving to: ‘yellow_tripdata_2022-02.parquet’\n",
      "\n",
      "yellow_tripdata_202 100%[===================>]  43.50M  30.9MB/s    in 1.4s    \n",
      "\n",
      "2023-12-10 09:33:39 (30.9 MB/s) - ‘yellow_tripdata_2022-02.parquet’ saved [45616512/45616512]\n",
      "\n",
      "--2023-12-10 09:33:39--  https://d37ci6vzurychx.cloudfront.net/trip-data/yellow_tripdata_2022-03.parquet\n",
      "Resolving d37ci6vzurychx.cloudfront.net (d37ci6vzurychx.cloudfront.net)... 3.160.226.161, 3.160.226.228, 3.160.226.111, ...\n",
      "Connecting to d37ci6vzurychx.cloudfront.net (d37ci6vzurychx.cloudfront.net)|3.160.226.161|:443... connected.\n",
      "HTTP request sent, awaiting response... 200 OK\n",
      "Length: 55682369 (53M) [application/x-www-form-urlencoded]\n",
      "Saving to: ‘yellow_tripdata_2022-03.parquet’\n",
      "\n",
      "yellow_tripdata_202 100%[===================>]  53.10M  32.9MB/s    in 1.6s    \n",
      "\n",
      "2023-12-10 09:33:41 (32.9 MB/s) - ‘yellow_tripdata_2022-03.parquet’ saved [55682369/55682369]\n",
      "\n"
     ]
    }
   ],
   "source": [
    "# https://github.com/toddwschneider/nyc-taxi-data/blob/master/setup_files/raw_data_urls.txt\n",
    "# %cd work\n",
    "!wget https://d37ci6vzurychx.cloudfront.net/trip-data/yellow_tripdata_2021-12.parquet\n",
    "!wget https://d37ci6vzurychx.cloudfront.net/trip-data/yellow_tripdata_2022-01.parquet\n",
    "!wget https://d37ci6vzurychx.cloudfront.net/trip-data/yellow_tripdata_2022-02.parquet\n",
    "!wget https://d37ci6vzurychx.cloudfront.net/trip-data/yellow_tripdata_2022-03.parquet"
   ]
  },
  {
   "cell_type": "code",
   "execution_count": 4,
   "id": "4cba2703-9fc0-4023-9b76-1de9f7637f07",
   "metadata": {
    "tags": []
   },
   "outputs": [],
   "source": [
    "from pyspark.sql import SparkSession\n",
    "# spark = SparkSession.builder.appName(\"Jupyter\").getOrCreate()\n",
    "spark = SparkSession.builder.appName(\"Jupyter\")\\\n",
    "    .config(\"spark.jars.packages\", \"org.apache.iceberg:iceberg-spark-runtime-3.5_2.13:1.4.2,org.duckdb:duckdb_jdbc:0.9.2\")\\\n",
    "    .config(\"spark.hadoop.datanucleus.schema.autoCreateTables\",\"true\")\\\n",
    "    .config(\"spark.hadoop.datanucleus.schema.autoCreateSchema\",\"true\")\\\n",
    "    .config(\"spark.sql.catalog.hive\",\"org.apache.iceberg.spark.SparkCatalog\")\\\n",
    "    .config(\"spark.sql.catalog.hive.uri\",\"thrift://metastore:9083\")\\\n",
    "    .config(\"spark.sql.catalog.hive.type\",\"hadoop\")\\\n",
    "    .config(\"spark.sql.catalog.hive.warehouse\",\"/home/jovyan/spark-datawarehouse\")\\\n",
    "    .getOrCreate()\n",
    "\n",
    "for filename in [\n",
    "    \"yellow_tripdata_2022-03.parquet\",\n",
    "    \"yellow_tripdata_2022-02.parquet\",\n",
    "    \"yellow_tripdata_2022-01.parquet\",\n",
    "    \"yellow_tripdata_2021-12.parquet\",\n",
    "]:\n",
    "    df = spark.read.parquet(f\"{filename}\").sortWithinPartitions(\"tpep_pickup_datetime\")\n",
    "    df.write.mode(\"append\").saveAsTable(\"hive.nyc.taxis\")\n"
   ]
  },
  {
   "cell_type": "code",
   "execution_count": 5,
   "id": "f314d4bb-ec78-490c-a305-4a5e6354eaad",
   "metadata": {},
   "outputs": [
    {
     "name": "stdout",
     "output_type": "stream",
     "text": [
      "+--------+--------------------+---------------------+---------------+-------------+----------+------------------+------------+------------+------------+-----------+-----+-------+----------+------------+---------------------+------------+--------------------+-----------+\n",
      "|VendorID|tpep_pickup_datetime|tpep_dropoff_datetime|passenger_count|trip_distance|RatecodeID|store_and_fwd_flag|PULocationID|DOLocationID|payment_type|fare_amount|extra|mta_tax|tip_amount|tolls_amount|improvement_surcharge|total_amount|congestion_surcharge|airport_fee|\n",
      "+--------+--------------------+---------------------+---------------+-------------+----------+------------------+------------+------------+------------+-----------+-----+-------+----------+------------+---------------------+------------+--------------------+-----------+\n",
      "|       2| 2022-03-16 00:01:34|  2022-03-16 00:30:47|            1.0|         6.81|       1.0|                 N|         114|          75|           1|       24.0|  0.5|    0.5|      5.56|         0.0|                  0.3|       33.36|                 2.5|        0.0|\n",
      "|       2| 2022-03-16 00:13:44|  2022-03-16 00:34:24|            1.0|          2.9|       1.0|                 N|         137|          45|           1|       14.0|  0.5|    0.5|       0.0|         0.0|                  0.3|        17.8|                 2.5|        0.0|\n",
      "|       2| 2022-03-16 00:02:09|  2022-03-16 00:07:16|            2.0|         0.87|       1.0|                 N|         164|         107|           2|        5.5|  0.5|    0.5|       0.0|         0.0|                  0.3|         9.3|                 2.5|        0.0|\n",
      "|       2| 2022-03-16 00:15:13|  2022-03-16 00:15:14|            1.0|         6.62|       1.0|                 N|         264|         264|           1|       24.5|  3.0|    0.5|      5.66|         0.0|                  0.3|       33.96|                 0.0|        0.0|\n",
      "|       2| 2022-03-16 00:01:39|  2022-03-16 00:06:16|            1.0|         0.83|       1.0|                 N|         164|         100|           2|        5.0|  0.5|    0.5|       0.0|         0.0|                  0.3|         8.8|                 2.5|        0.0|\n",
      "|       2| 2022-03-16 00:01:01|  2022-03-16 00:16:48|            1.0|         3.17|       1.0|                 N|         163|         224|           2|       12.5|  0.5|    0.5|       0.0|         0.0|                  0.3|        16.3|                 2.5|        0.0|\n",
      "|       2| 2022-03-16 00:00:06|  2022-03-16 00:03:30|            2.0|         0.97|       1.0|                 N|         239|         238|           1|        5.0|  0.5|    0.5|      1.76|         0.0|                  0.3|       10.56|                 2.5|        0.0|\n",
      "|       2| 2022-03-16 00:00:10|  2022-03-16 00:15:14|            1.0|         4.92|       1.0|                 N|         162|          24|           2|       16.5|  0.5|    0.5|       0.0|         0.0|                  0.3|        20.3|                 2.5|        0.0|\n",
      "|       2| 2022-03-16 00:00:15|  2022-03-16 00:22:00|            1.0|        12.83|       1.0|                 N|         132|         160|           2|       36.0|  0.5|    0.5|       0.0|         0.0|                  0.3|       38.55|                 0.0|       1.25|\n",
      "|       2| 2022-03-16 00:01:54|  2022-03-16 00:15:07|            1.0|         6.46|       1.0|                 N|         138|          95|           1|       19.5|  0.5|    0.5|       3.0|         0.0|                  0.3|       25.05|                 0.0|       1.25|\n",
      "|       2| 2022-03-16 00:01:18|  2022-03-16 00:07:03|            1.0|         1.08|       1.0|                 N|         163|         143|           1|        6.5|  0.5|    0.5|      2.06|         0.0|                  0.3|       12.36|                 2.5|        0.0|\n",
      "|       2| 2022-03-16 00:01:10|  2022-03-16 00:27:05|            1.0|         8.39|       1.0|                 N|         162|         189|           1|       27.5|  0.5|    0.5|      7.82|         0.0|                  0.3|       39.12|                 2.5|        0.0|\n",
      "|       2| 2022-03-16 00:02:33|  2022-03-16 00:06:43|            5.0|          0.7|       1.0|                 N|         162|         233|           1|        5.0|  0.5|    0.5|       2.2|         0.0|                  0.3|        11.0|                 2.5|        0.0|\n",
      "|       1| 2022-03-16 00:31:25|  2022-03-16 00:37:29|            1.0|          1.1|       1.0|                 N|         113|           4|           1|        6.0|  3.0|    0.5|      1.95|         0.0|                  0.3|       11.75|                 2.5|        0.0|\n",
      "|       1| 2022-03-16 00:50:45|  2022-03-16 01:09:44|            1.0|         11.0|       1.0|                 N|         107|         243|           1|       31.5|  3.0|    0.5|       3.0|         0.0|                  0.3|        38.3|                 2.5|        0.0|\n",
      "|       1| 2022-03-16 00:54:47|  2022-03-16 00:59:44|            1.0|          1.4|       1.0|                 N|         138|         129|           2|        6.0|  0.5|    0.5|       0.0|         0.0|                  0.3|         7.3|                 0.0|        0.0|\n",
      "|       1| 2022-03-16 00:12:32|  2022-03-16 00:27:10|            1.0|          5.6|       1.0|                 N|          75|         119|           2|       17.0|  0.5|    0.5|       0.0|         0.0|                  0.3|        18.3|                 0.0|        0.0|\n",
      "|       1| 2022-03-16 00:06:32|  2022-03-16 00:21:56|            1.0|          4.4|       1.0|                 N|         249|         238|           1|       15.0|  3.0|    0.5|       2.0|         0.0|                  0.3|        20.8|                 2.5|        0.0|\n",
      "|       1| 2022-03-16 00:46:12|  2022-03-16 01:03:46|            1.0|          4.0|       1.0|                 N|         230|          87|           1|       14.5|  3.0|    0.5|       0.1|         0.0|                  0.3|        18.4|                 2.5|        0.0|\n",
      "|       2| 2022-03-16 00:17:40|  2022-03-16 00:22:40|            1.0|         1.42|       1.0|                 N|         234|         161|           1|        6.0|  0.5|    0.5|      1.96|         0.0|                  0.3|       11.76|                 2.5|        0.0|\n",
      "+--------+--------------------+---------------------+---------------+-------------+----------+------------------+------------+------------+------------+-----------+-----+-------+----------+------------+---------------------+------------+--------------------+-----------+\n",
      "only showing top 20 rows\n",
      "\n"
     ]
    }
   ],
   "source": [
    "df = spark.sql(\"select * from hive.nyc.taxis\")\n",
    "df.show()"
   ]
  },
  {
   "cell_type": "code",
   "execution_count": 6,
   "id": "0a000d01-f718-4282-bbf7-6e618ce371bf",
   "metadata": {},
   "outputs": [
    {
     "data": {
      "text/html": [
       "<table>\n",
       "    <thead>\n",
       "        <tr>\n",
       "            <th>VendorID</th>\n",
       "            <th>tpep_pickup_datetime</th>\n",
       "            <th>tpep_dropoff_datetime</th>\n",
       "            <th>passenger_count</th>\n",
       "            <th>trip_distance</th>\n",
       "            <th>RatecodeID</th>\n",
       "            <th>store_and_fwd_flag</th>\n",
       "            <th>PULocationID</th>\n",
       "            <th>DOLocationID</th>\n",
       "            <th>payment_type</th>\n",
       "            <th>fare_amount</th>\n",
       "            <th>extra</th>\n",
       "            <th>mta_tax</th>\n",
       "            <th>tip_amount</th>\n",
       "            <th>tolls_amount</th>\n",
       "            <th>improvement_surcharge</th>\n",
       "            <th>total_amount</th>\n",
       "            <th>congestion_surcharge</th>\n",
       "            <th>airport_fee</th>\n",
       "        </tr>\n",
       "    </thead>\n",
       "    <tbody>\n",
       "        <tr>\n",
       "            <td>2</td>\n",
       "            <td>2003-01-05 04:05:18</td>\n",
       "            <td>2003-01-05 18:41:11</td>\n",
       "            <td>1.0</td>\n",
       "            <td>0.0</td>\n",
       "            <td>1.0</td>\n",
       "            <td>N</td>\n",
       "            <td>193</td>\n",
       "            <td>193</td>\n",
       "            <td>1</td>\n",
       "            <td>0.0</td>\n",
       "            <td>0.0</td>\n",
       "            <td>0.0</td>\n",
       "            <td>0.0</td>\n",
       "            <td>0.0</td>\n",
       "            <td>0.0</td>\n",
       "            <td>0.0</td>\n",
       "            <td>0.0</td>\n",
       "            <td>0.0</td>\n",
       "        </tr>\n",
       "        <tr>\n",
       "            <td>2</td>\n",
       "            <td>2009-01-01 04:08:09</td>\n",
       "            <td>2009-01-01 04:23:06</td>\n",
       "            <td>1.0</td>\n",
       "            <td>1.63</td>\n",
       "            <td>1.0</td>\n",
       "            <td>N</td>\n",
       "            <td>186</td>\n",
       "            <td>162</td>\n",
       "            <td>2</td>\n",
       "            <td>10.5</td>\n",
       "            <td>0.5</td>\n",
       "            <td>0.5</td>\n",
       "            <td>0.0</td>\n",
       "            <td>0.0</td>\n",
       "            <td>0.3</td>\n",
       "            <td>14.3</td>\n",
       "            <td>2.5</td>\n",
       "            <td>0.0</td>\n",
       "        </tr>\n",
       "        <tr>\n",
       "            <td>2</td>\n",
       "            <td>2009-01-01 04:23:51</td>\n",
       "            <td>2009-01-01 21:21:05</td>\n",
       "            <td>1.0</td>\n",
       "            <td>5.55</td>\n",
       "            <td>1.0</td>\n",
       "            <td>N</td>\n",
       "            <td>233</td>\n",
       "            <td>256</td>\n",
       "            <td>1</td>\n",
       "            <td>20.0</td>\n",
       "            <td>0.5</td>\n",
       "            <td>0.5</td>\n",
       "            <td>4.76</td>\n",
       "            <td>0.0</td>\n",
       "            <td>0.3</td>\n",
       "            <td>28.56</td>\n",
       "            <td>2.5</td>\n",
       "            <td>0.0</td>\n",
       "        </tr>\n",
       "        <tr>\n",
       "            <td>2</td>\n",
       "            <td>2009-01-01 00:07:27</td>\n",
       "            <td>2009-01-01 18:53:33</td>\n",
       "            <td>1.0</td>\n",
       "            <td>0.0</td>\n",
       "            <td>1.0</td>\n",
       "            <td>N</td>\n",
       "            <td>193</td>\n",
       "            <td>193</td>\n",
       "            <td>1</td>\n",
       "            <td>0.0</td>\n",
       "            <td>0.0</td>\n",
       "            <td>0.0</td>\n",
       "            <td>0.0</td>\n",
       "            <td>0.0</td>\n",
       "            <td>0.0</td>\n",
       "            <td>0.0</td>\n",
       "            <td>0.0</td>\n",
       "            <td>0.0</td>\n",
       "        </tr>\n",
       "        <tr>\n",
       "            <td>2</td>\n",
       "            <td>2009-01-01 06:36:41</td>\n",
       "            <td>2009-01-01 14:11:14</td>\n",
       "            <td>1.0</td>\n",
       "            <td>0.69</td>\n",
       "            <td>1.0</td>\n",
       "            <td>N</td>\n",
       "            <td>263</td>\n",
       "            <td>236</td>\n",
       "            <td>1</td>\n",
       "            <td>5.5</td>\n",
       "            <td>0.0</td>\n",
       "            <td>0.5</td>\n",
       "            <td>4.0</td>\n",
       "            <td>0.0</td>\n",
       "            <td>0.3</td>\n",
       "            <td>12.8</td>\n",
       "            <td>2.5</td>\n",
       "            <td>0.0</td>\n",
       "        </tr>\n",
       "        <tr>\n",
       "            <td>2</td>\n",
       "            <td>2022-01-31 23:49:19</td>\n",
       "            <td>2022-02-01 00:01:32</td>\n",
       "            <td>1.0</td>\n",
       "            <td>2.47</td>\n",
       "            <td>1.0</td>\n",
       "            <td>N</td>\n",
       "            <td>143</td>\n",
       "            <td>236</td>\n",
       "            <td>1</td>\n",
       "            <td>11.0</td>\n",
       "            <td>0.5</td>\n",
       "            <td>0.5</td>\n",
       "            <td>2.96</td>\n",
       "            <td>0.0</td>\n",
       "            <td>0.3</td>\n",
       "            <td>17.76</td>\n",
       "            <td>2.5</td>\n",
       "            <td>0.0</td>\n",
       "        </tr>\n",
       "        <tr>\n",
       "            <td>2</td>\n",
       "            <td>2022-01-31 23:50:06</td>\n",
       "            <td>2022-01-31 23:58:51</td>\n",
       "            <td>4.0</td>\n",
       "            <td>1.52</td>\n",
       "            <td>1.0</td>\n",
       "            <td>N</td>\n",
       "            <td>229</td>\n",
       "            <td>170</td>\n",
       "            <td>2</td>\n",
       "            <td>8.0</td>\n",
       "            <td>0.5</td>\n",
       "            <td>0.5</td>\n",
       "            <td>0.0</td>\n",
       "            <td>0.0</td>\n",
       "            <td>0.3</td>\n",
       "            <td>11.8</td>\n",
       "            <td>2.5</td>\n",
       "            <td>0.0</td>\n",
       "        </tr>\n",
       "        <tr>\n",
       "            <td>2</td>\n",
       "            <td>2022-01-31 23:48:06</td>\n",
       "            <td>2022-01-31 23:59:09</td>\n",
       "            <td>1.0</td>\n",
       "            <td>2.67</td>\n",
       "            <td>1.0</td>\n",
       "            <td>N</td>\n",
       "            <td>100</td>\n",
       "            <td>239</td>\n",
       "            <td>1</td>\n",
       "            <td>11.0</td>\n",
       "            <td>0.5</td>\n",
       "            <td>0.5</td>\n",
       "            <td>2.96</td>\n",
       "            <td>0.0</td>\n",
       "            <td>0.3</td>\n",
       "            <td>17.76</td>\n",
       "            <td>2.5</td>\n",
       "            <td>0.0</td>\n",
       "        </tr>\n",
       "        <tr>\n",
       "            <td>2</td>\n",
       "            <td>2022-01-31 23:38:30</td>\n",
       "            <td>2022-01-31 23:48:13</td>\n",
       "            <td>1.0</td>\n",
       "            <td>4.78</td>\n",
       "            <td>1.0</td>\n",
       "            <td>N</td>\n",
       "            <td>41</td>\n",
       "            <td>127</td>\n",
       "            <td>1</td>\n",
       "            <td>15.0</td>\n",
       "            <td>0.5</td>\n",
       "            <td>0.5</td>\n",
       "            <td>6.0</td>\n",
       "            <td>0.0</td>\n",
       "            <td>0.3</td>\n",
       "            <td>22.3</td>\n",
       "            <td>0.0</td>\n",
       "            <td>0.0</td>\n",
       "        </tr>\n",
       "        <tr>\n",
       "            <td>2</td>\n",
       "            <td>2022-01-31 23:56:17</td>\n",
       "            <td>2022-02-01 00:09:08</td>\n",
       "            <td>1.0</td>\n",
       "            <td>3.55</td>\n",
       "            <td>1.0</td>\n",
       "            <td>N</td>\n",
       "            <td>79</td>\n",
       "            <td>50</td>\n",
       "            <td>1</td>\n",
       "            <td>13.0</td>\n",
       "            <td>0.5</td>\n",
       "            <td>0.5</td>\n",
       "            <td>3.36</td>\n",
       "            <td>0.0</td>\n",
       "            <td>0.3</td>\n",
       "            <td>20.16</td>\n",
       "            <td>2.5</td>\n",
       "            <td>0.0</td>\n",
       "        </tr>\n",
       "    </tbody>\n",
       "</table>"
      ],
      "text/plain": [
       "+----------+----------------------+-----------------------+-----------------+---------------+------------+--------------------+--------------+--------------+--------------+-------------+-------+---------+------------+--------------+-----------------------+--------------+----------------------+-------------+\n",
       "| VendorID | tpep_pickup_datetime | tpep_dropoff_datetime | passenger_count | trip_distance | RatecodeID | store_and_fwd_flag | PULocationID | DOLocationID | payment_type | fare_amount | extra | mta_tax | tip_amount | tolls_amount | improvement_surcharge | total_amount | congestion_surcharge | airport_fee |\n",
       "+----------+----------------------+-----------------------+-----------------+---------------+------------+--------------------+--------------+--------------+--------------+-------------+-------+---------+------------+--------------+-----------------------+--------------+----------------------+-------------+\n",
       "|        2 |  2003-01-05 04:05:18 |   2003-01-05 18:41:11 |             1.0 |           0.0 |        1.0 |                  N |          193 |          193 |            1 |         0.0 |   0.0 |     0.0 |        0.0 |          0.0 |                   0.0 |          0.0 |                  0.0 |         0.0 |\n",
       "|        2 |  2009-01-01 04:08:09 |   2009-01-01 04:23:06 |             1.0 |          1.63 |        1.0 |                  N |          186 |          162 |            2 |        10.5 |   0.5 |     0.5 |        0.0 |          0.0 |                   0.3 |         14.3 |                  2.5 |         0.0 |\n",
       "|        2 |  2009-01-01 04:23:51 |   2009-01-01 21:21:05 |             1.0 |          5.55 |        1.0 |                  N |          233 |          256 |            1 |        20.0 |   0.5 |     0.5 |       4.76 |          0.0 |                   0.3 |        28.56 |                  2.5 |         0.0 |\n",
       "|        2 |  2009-01-01 00:07:27 |   2009-01-01 18:53:33 |             1.0 |           0.0 |        1.0 |                  N |          193 |          193 |            1 |         0.0 |   0.0 |     0.0 |        0.0 |          0.0 |                   0.0 |          0.0 |                  0.0 |         0.0 |\n",
       "|        2 |  2009-01-01 06:36:41 |   2009-01-01 14:11:14 |             1.0 |          0.69 |        1.0 |                  N |          263 |          236 |            1 |         5.5 |   0.0 |     0.5 |        4.0 |          0.0 |                   0.3 |         12.8 |                  2.5 |         0.0 |\n",
       "|        2 |  2022-01-31 23:49:19 |   2022-02-01 00:01:32 |             1.0 |          2.47 |        1.0 |                  N |          143 |          236 |            1 |        11.0 |   0.5 |     0.5 |       2.96 |          0.0 |                   0.3 |        17.76 |                  2.5 |         0.0 |\n",
       "|        2 |  2022-01-31 23:50:06 |   2022-01-31 23:58:51 |             4.0 |          1.52 |        1.0 |                  N |          229 |          170 |            2 |         8.0 |   0.5 |     0.5 |        0.0 |          0.0 |                   0.3 |         11.8 |                  2.5 |         0.0 |\n",
       "|        2 |  2022-01-31 23:48:06 |   2022-01-31 23:59:09 |             1.0 |          2.67 |        1.0 |                  N |          100 |          239 |            1 |        11.0 |   0.5 |     0.5 |       2.96 |          0.0 |                   0.3 |        17.76 |                  2.5 |         0.0 |\n",
       "|        2 |  2022-01-31 23:38:30 |   2022-01-31 23:48:13 |             1.0 |          4.78 |        1.0 |                  N |           41 |          127 |            1 |        15.0 |   0.5 |     0.5 |        6.0 |          0.0 |                   0.3 |         22.3 |                  0.0 |         0.0 |\n",
       "|        2 |  2022-01-31 23:56:17 |   2022-02-01 00:09:08 |             1.0 |          3.55 |        1.0 |                  N |           79 |           50 |            1 |        13.0 |   0.5 |     0.5 |       3.36 |          0.0 |                   0.3 |        20.16 |                  2.5 |         0.0 |\n",
       "+----------+----------------------+-----------------------+-----------------+---------------+------------+--------------------+--------------+--------------+--------------+-------------+-------+---------+------------+--------------+-----------------------+--------------+----------------------+-------------+"
      ]
     },
     "execution_count": 6,
     "metadata": {},
     "output_type": "execute_result"
    }
   ],
   "source": [
    "%%sql\n",
    "select * from hive.nyc.taxis limit 10"
   ]
  },
  {
   "cell_type": "markdown",
   "id": "ce6dcf37-f466-4fce-be76-d500887947e6",
   "metadata": {},
   "source": [
    "# SQL Magics (DuckDB)"
   ]
  },
  {
   "cell_type": "code",
   "execution_count": 7,
   "id": "8c6102ee-3242-4f29-ad3f-b37dfcd19b13",
   "metadata": {
    "tags": []
   },
   "outputs": [
    {
     "name": "stdout",
     "output_type": "stream",
     "text": [
      "\u001b[33mThere's a new jupysql version available (0.10.4), you're running 0.10.1. To upgrade: pip install jupysql --upgrade\u001b[0m\n",
      "\u001b[32mDeploy AI and data apps for free on Ploomber Cloud! Learn more: https://docs.cloud.ploomber.io/en/latest/quickstart/signup.html\u001b[0m\n"
     ]
    },
    {
     "data": {
      "text/html": [
       "<div>\n",
       "<style scoped>\n",
       "    .dataframe tbody tr th:only-of-type {\n",
       "        vertical-align: middle;\n",
       "    }\n",
       "\n",
       "    .dataframe tbody tr th {\n",
       "        vertical-align: top;\n",
       "    }\n",
       "\n",
       "    .dataframe thead th {\n",
       "        text-align: right;\n",
       "    }\n",
       "</style>\n",
       "<table border=\"1\" class=\"dataframe\">\n",
       "  <thead>\n",
       "    <tr style=\"text-align: right;\">\n",
       "      <th></th>\n",
       "      <th>a_duckdb_column</th>\n",
       "    </tr>\n",
       "  </thead>\n",
       "  <tbody>\n",
       "    <tr>\n",
       "      <th>0</th>\n",
       "      <td>Off and flying!</td>\n",
       "    </tr>\n",
       "  </tbody>\n",
       "</table>\n",
       "</div>"
      ],
      "text/plain": [
       "   a_duckdb_column\n",
       "0  Off and flying!"
      ]
     },
     "execution_count": 7,
     "metadata": {},
     "output_type": "execute_result"
    }
   ],
   "source": [
    "# No need to import duckdb_engine\n",
    "#  jupysql will auto-detect the driver needed based on the connection string!\n",
    "\n",
    "%reload_ext sql\n",
    "%config SqlMagic.autopandas = True\n",
    "%config SqlMagic.feedback = False\n",
    "%config SqlMagic.displaycon = False\n",
    "\n",
    "\n",
    "%sql duckdb:///:memory:\n",
    "# %sql duckdb:///path/to/file.db\n",
    "%sql SELECT 'Off and flying!' as a_duckdb_column"
   ]
  },
  {
   "cell_type": "code",
   "execution_count": 8,
   "id": "e59b9a01-5f7b-4ad6-912c-89bc292e21b3",
   "metadata": {
    "tags": []
   },
   "outputs": [
    {
     "data": {
      "text/html": [
       "<div>\n",
       "<style scoped>\n",
       "    .dataframe tbody tr th:only-of-type {\n",
       "        vertical-align: middle;\n",
       "    }\n",
       "\n",
       "    .dataframe tbody tr th {\n",
       "        vertical-align: top;\n",
       "    }\n",
       "\n",
       "    .dataframe thead th {\n",
       "        text-align: right;\n",
       "    }\n",
       "</style>\n",
       "<table border=\"1\" class=\"dataframe\">\n",
       "  <thead>\n",
       "    <tr style=\"text-align: right;\">\n",
       "      <th></th>\n",
       "      <th>schema_name</th>\n",
       "      <th>function_name</th>\n",
       "    </tr>\n",
       "  </thead>\n",
       "  <tbody>\n",
       "    <tr>\n",
       "      <th>0</th>\n",
       "      <td>pg_catalog</td>\n",
       "      <td>shobj_description</td>\n",
       "    </tr>\n",
       "    <tr>\n",
       "      <th>1</th>\n",
       "      <td>pg_catalog</td>\n",
       "      <td>shobj_description</td>\n",
       "    </tr>\n",
       "    <tr>\n",
       "      <th>2</th>\n",
       "      <td>pg_catalog</td>\n",
       "      <td>shobj_description</td>\n",
       "    </tr>\n",
       "    <tr>\n",
       "      <th>3</th>\n",
       "      <td>pg_catalog</td>\n",
       "      <td>pg_typeof</td>\n",
       "    </tr>\n",
       "    <tr>\n",
       "      <th>4</th>\n",
       "      <td>pg_catalog</td>\n",
       "      <td>pg_typeof</td>\n",
       "    </tr>\n",
       "  </tbody>\n",
       "</table>\n",
       "</div>"
      ],
      "text/plain": [
       "  schema_name      function_name\n",
       "0  pg_catalog  shobj_description\n",
       "1  pg_catalog  shobj_description\n",
       "2  pg_catalog  shobj_description\n",
       "3  pg_catalog          pg_typeof\n",
       "4  pg_catalog          pg_typeof"
      ]
     },
     "execution_count": 8,
     "metadata": {},
     "output_type": "execute_result"
    }
   ],
   "source": [
    "%%sql\n",
    "SELECT\n",
    "    schema_name,\n",
    "    function_name\n",
    "FROM duckdb_functions()\n",
    "ORDER BY ALL DESC\n",
    "LIMIT 5"
   ]
  },
  {
   "cell_type": "code",
   "execution_count": 9,
   "id": "dac0da3f-210f-40fb-96c0-e77b82a406d7",
   "metadata": {
    "tags": []
   },
   "outputs": [],
   "source": [
    "%sql my_df << SELECT 'Off and flying!' as a_duckdb_column"
   ]
  },
  {
   "cell_type": "code",
   "execution_count": 10,
   "id": "90d2eceb-d231-49ef-a09f-0cfbe412a68a",
   "metadata": {
    "tags": []
   },
   "outputs": [],
   "source": [
    "\n",
    "\n",
    "input_df = pd.DataFrame.from_dict({\"i\":[1, 2, 3],\n",
    "                                  \"j\":[\"one\", \"two\", \"three\"]})\n"
   ]
  },
  {
   "cell_type": "code",
   "execution_count": 11,
   "id": "bdff3adf-06f0-402a-a0d5-4ae5d78f9643",
   "metadata": {
    "tags": []
   },
   "outputs": [],
   "source": [
    "%sql output_df << SELECT sum(i) as total_i FROM input_df"
   ]
  },
  {
   "cell_type": "code",
   "execution_count": 12,
   "id": "f1f49d3b-c0f0-4e9d-874c-4e0f01ffc885",
   "metadata": {
    "tags": []
   },
   "outputs": [
    {
     "data": {
      "text/html": [
       "<div>\n",
       "<style scoped>\n",
       "    .dataframe tbody tr th:only-of-type {\n",
       "        vertical-align: middle;\n",
       "    }\n",
       "\n",
       "    .dataframe tbody tr th {\n",
       "        vertical-align: top;\n",
       "    }\n",
       "\n",
       "    .dataframe thead th {\n",
       "        text-align: right;\n",
       "    }\n",
       "</style>\n",
       "<table border=\"1\" class=\"dataframe\">\n",
       "  <thead>\n",
       "    <tr style=\"text-align: right;\">\n",
       "      <th></th>\n",
       "      <th>Success</th>\n",
       "    </tr>\n",
       "  </thead>\n",
       "  <tbody>\n",
       "  </tbody>\n",
       "</table>\n",
       "</div>"
      ],
      "text/plain": [
       "Empty DataFrame\n",
       "Columns: [Success]\n",
       "Index: []"
      ]
     },
     "execution_count": 12,
     "metadata": {},
     "output_type": "execute_result"
    }
   ],
   "source": [
    "%%sql\n",
    "INSTALL httpfs;\n",
    "LOAD httpfs;"
   ]
  },
  {
   "cell_type": "code",
   "execution_count": 13,
   "id": "c83c7316-612f-42be-a707-cdf4332d9210",
   "metadata": {
    "tags": []
   },
   "outputs": [
    {
     "data": {
      "text/plain": [
       "<Axes: title={'center': \"'trip_distance' from 'https://d37ci6vzurychx.cloudfront.net/trip-data/yellow_tripdata_2021-01.parquet'\"}, ylabel='trip_distance'>"
      ]
     },
     "execution_count": 13,
     "metadata": {},
     "output_type": "execute_result"
    },
    {
     "data": {
      "image/png": "[encoded data removed]",
      "text/plain": [
       "<Figure size 640x480 with 1 Axes>"
      ]
     },
     "metadata": {},
     "output_type": "display_data"
    }
   ],
   "source": [
    "%sqlplot boxplot --table https://d37ci6vzurychx.cloudfront.net/trip-data/yellow_tripdata_2021-01.parquet --column trip_distance"
   ]
  },
  {
   "cell_type": "code",
   "execution_count": null,
   "id": "a2b3fecd-f81d-45b7-8c2d-ea5c48993efc",
   "metadata": {},
   "outputs": [],
   "source": []
  }
 ],
 "metadata": {
  "kernelspec": {
   "display_name": "Python 3 (ipykernel)",
   "language": "python",
   "name": "python3"
  },
  "language_info": {
   "codemirror_mode": {
    "name": "ipython",
    "version": 3
   },
   "file_extension": ".py",
   "mimetype": "text/x-python",
   "name": "python",
   "nbconvert_exporter": "python",
   "pygments_lexer": "ipython3",
   "version": "3.11.6"
  }
 },
 "nbformat": 4,
 "nbformat_minor": 5
}
