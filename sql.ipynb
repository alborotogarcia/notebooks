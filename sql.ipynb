{
 "cells": [
  {
   "cell_type": "markdown",
   "id": "f8f7cd3f-1009-4046-8588-c98dd9a30283",
   "metadata": {},
   "source": [
    "# SQL Magics (Pyspark + Iceberg)"
   ]
  },
  {
   "cell_type": "code",
   "execution_count": 1,
   "id": "a1359e27-472b-4cbf-8035-3206d2b2aed8",
   "metadata": {
    "tags": []
   },
   "outputs": [],
   "source": [
    "import duckdb\n",
    "import pandas as pd\n",
    "import matplotlib"
   ]
  },
  {
   "cell_type": "code",
   "execution_count": 2,
   "id": "3aa6f0df-bc0b-4b25-9783-76c01a65911b",
   "metadata": {
    "tags": []
   },
   "outputs": [
    {
     "data": {
      "text/html": [
       "<table>\n",
       "    <thead>\n",
       "        <tr>\n",
       "        </tr>\n",
       "    </thead>\n",
       "    <tbody>\n",
       "    </tbody>\n",
       "</table>"
      ],
      "text/plain": [
       "++\n",
       "||\n",
       "++\n",
       "++"
      ]
     },
     "execution_count": 2,
     "metadata": {},
     "output_type": "execute_result"
    }
   ],
   "source": [
    "%%sql\n",
    "CREATE DATABASE IF NOT EXISTS hive.nyc;"
   ]
  },
  {
   "cell_type": "code",
   "execution_count": 3,
   "id": "b6f53bb1-c94b-4308-8415-7e9f580b41cd",
   "metadata": {
    "tags": []
   },
   "outputs": [
    {
     "data": {
      "text/html": [
       "<table>\n",
       "    <thead>\n",
       "        <tr>\n",
       "        </tr>\n",
       "    </thead>\n",
       "    <tbody>\n",
       "    </tbody>\n",
       "</table>"
      ],
      "text/plain": [
       "++\n",
       "||\n",
       "++\n",
       "++"
      ]
     },
     "execution_count": 3,
     "metadata": {},
     "output_type": "execute_result"
    }
   ],
   "source": [
    "%%sql\n",
    "CREATE TABLE IF NOT EXISTS hive.nyc.taxis (\n",
    "    VendorID              bigint,\n",
    "\n",
    "\n",
    "    tpep_pickup_datetime  timestamp,\n",
    "    tpep_dropoff_datetime timestamp,\n",
    "    passenger_count       double,\n",
    "    trip_distance         double,\n",
    "    RatecodeID            double,\n",
    "    store_and_fwd_flag    string,\n",
    "    PULocationID          bigint,\n",
    "    DOLocationID          bigint,\n",
    "    payment_type          bigint,\n",
    "    fare_amount           double,\n",
    "    extra                 double,\n",
    "    mta_tax               double,\n",
    "    tip_amount            double,\n",
    "    tolls_amount          double,\n",
    "    improvement_surcharge double,\n",
    "    total_amount          double,\n",
    "    congestion_surcharge  double,\n",
    "    airport_fee           double\n",
    ")\n",
    "USING iceberg\n",
    "PARTITIONED BY (days(tpep_pickup_datetime))\n"
   ]
  },
  {
   "cell_type": "code",
   "execution_count": 4,
   "id": "097173fd-f944-43c9-88b4-e9087207d8a3",
   "metadata": {
    "tags": []
   },
   "outputs": [
    {
     "name": "stdout",
     "output_type": "stream",
     "text": [
      "/home/jovyan/work\n",
      "--2023-05-23 04:52:30--  https://d37ci6vzurychx.cloudfront.net/trip-data/yellow_tripdata_2021-12.parquet\n",
      "Resolving d37ci6vzurychx.cloudfront.net (d37ci6vzurychx.cloudfront.net)... 18.67.246.176, 18.67.246.47, 18.67.246.186, ...\n",
      "Connecting to d37ci6vzurychx.cloudfront.net (d37ci6vzurychx.cloudfront.net)|18.67.246.176|:443... connected.\n",
      "HTTP request sent, awaiting response... 200 OK\n",
      "Length: 49639052 (47M) [application/x-www-form-urlencoded]\n",
      "Saving to: ‘yellow_tripdata_2021-12.parquet’\n",
      "\n",
      "yellow_tripdata_202 100%[===================>]  47.34M  56.6MB/s    in 0.8s    \n",
      "\n",
      "2023-05-23 04:52:31 (56.6 MB/s) - ‘yellow_tripdata_2021-12.parquet’ saved [49639052/49639052]\n",
      "\n",
      "--2023-05-23 04:52:32--  https://d37ci6vzurychx.cloudfront.net/trip-data/yellow_tripdata_2022-01.parquet\n",
      "Resolving d37ci6vzurychx.cloudfront.net (d37ci6vzurychx.cloudfront.net)... 18.67.246.176, 18.67.246.47, 18.67.246.186, ...\n",
      "Connecting to d37ci6vzurychx.cloudfront.net (d37ci6vzurychx.cloudfront.net)|18.67.246.176|:443... connected.\n",
      "HTTP request sent, awaiting response... 200 OK\n",
      "Length: 38139949 (36M) [application/x-www-form-urlencoded]\n",
      "Saving to: ‘yellow_tripdata_2022-01.parquet’\n",
      "\n",
      "yellow_tripdata_202 100%[===================>]  36.37M  63.8MB/s    in 0.6s    \n",
      "\n",
      "2023-05-23 04:52:32 (63.8 MB/s) - ‘yellow_tripdata_2022-01.parquet’ saved [38139949/38139949]\n",
      "\n",
      "--2023-05-23 04:52:33--  https://d37ci6vzurychx.cloudfront.net/trip-data/yellow_tripdata_2022-02.parquet\n",
      "Resolving d37ci6vzurychx.cloudfront.net (d37ci6vzurychx.cloudfront.net)... 18.67.246.176, 18.67.246.47, 18.67.246.186, ...\n",
      "Connecting to d37ci6vzurychx.cloudfront.net (d37ci6vzurychx.cloudfront.net)|18.67.246.176|:443... connected.\n",
      "HTTP request sent, awaiting response... 200 OK\n",
      "Length: 45616512 (44M) [application/x-www-form-urlencoded]\n",
      "Saving to: ‘yellow_tripdata_2022-02.parquet’\n",
      "\n",
      "yellow_tripdata_202 100%[===================>]  43.50M  66.4MB/s    in 0.7s    \n",
      "\n",
      "2023-05-23 04:52:33 (66.4 MB/s) - ‘yellow_tripdata_2022-02.parquet’ saved [45616512/45616512]\n",
      "\n",
      "--2023-05-23 04:52:34--  https://d37ci6vzurychx.cloudfront.net/trip-data/yellow_tripdata_2022-03.parquet\n",
      "Resolving d37ci6vzurychx.cloudfront.net (d37ci6vzurychx.cloudfront.net)... 18.67.246.176, 18.67.246.47, 18.67.246.186, ...\n",
      "Connecting to d37ci6vzurychx.cloudfront.net (d37ci6vzurychx.cloudfront.net)|18.67.246.176|:443... connected.\n",
      "HTTP request sent, awaiting response... 200 OK\n",
      "Length: 55682369 (53M) [application/x-www-form-urlencoded]\n",
      "Saving to: ‘yellow_tripdata_2022-03.parquet’\n",
      "\n",
      "yellow_tripdata_202 100%[===================>]  53.10M  70.1MB/s    in 0.8s    \n",
      "\n",
      "2023-05-23 04:52:34 (70.1 MB/s) - ‘yellow_tripdata_2022-03.parquet’ saved [55682369/55682369]\n",
      "\n"
     ]
    }
   ],
   "source": [
    "# https://github.com/toddwschneider/nyc-taxi-data/blob/master/setup_files/raw_data_urls.txt\n",
    "%cd work\n",
    "!wget https://d37ci6vzurychx.cloudfront.net/trip-data/yellow_tripdata_2021-12.parquet\n",
    "!wget https://d37ci6vzurychx.cloudfront.net/trip-data/yellow_tripdata_2022-01.parquet\n",
    "!wget https://d37ci6vzurychx.cloudfront.net/trip-data/yellow_tripdata_2022-02.parquet\n",
    "!wget https://d37ci6vzurychx.cloudfront.net/trip-data/yellow_tripdata_2022-03.parquet"
   ]
  },
  {
   "cell_type": "code",
   "execution_count": 5,
   "id": "4cba2703-9fc0-4023-9b76-1de9f7637f07",
   "metadata": {
    "tags": []
   },
   "outputs": [],
   "source": [
    "from pyspark.sql import SparkSession\n",
    "# spark = SparkSession.builder.appName(\"Jupyter\").getOrCreate()\n",
    "spark = SparkSession.builder.appName(\"Jupyter\")\\\n",
    "    .config(\"spark.jars.packages\", \"org.apache.iceberg:iceberg-spark-runtime-3.3_2.13:1.2.1,org.duckdb:duckdb_jdbc:0.8.0\")\\\n",
    "    .config(\"spark.hadoop.datanucleus.schema.autoCreateTables\",\"true\")\\\n",
    "    .config(\"spark.hadoop.datanucleus.schema.autoCreateSchema\",\"true\")\\\n",
    "    .config(\"spark.sql.catalog.hive\",\"org.apache.iceberg.spark.SparkCatalog\")\\\n",
    "    .config(\"spark.sql.catalog.hive.uri\",\"thrift://metastore:9083\")\\\n",
    "    .config(\"spark.sql.catalog.hive.type\",\"hadoop\")\\\n",
    "    .config(\"spark.sql.catalog.hive.warehouse\",\"/home/jovyan/spark-datawarehouse\")\\\n",
    "    .getOrCreate()\n",
    "\n",
    "for filename in [\n",
    "    \"yellow_tripdata_2022-03.parquet\",\n",
    "    \"yellow_tripdata_2022-02.parquet\",\n",
    "    \"yellow_tripdata_2022-01.parquet\",\n",
    "    \"yellow_tripdata_2021-12.parquet\",\n",
    "]:\n",
    "    df = spark.read.parquet(f\"work/{filename}\").sortWithinPartitions(\"tpep_pickup_datetime\")\n",
    "    df.write.mode(\"append\").saveAsTable(\"hive.nyc.taxis\")\n"
   ]
  },
  {
   "cell_type": "markdown",
   "id": "ce6dcf37-f466-4fce-be76-d500887947e6",
   "metadata": {},
   "source": [
    "# SQL Magics (DuckDB)"
   ]
  },
  {
   "cell_type": "code",
   "execution_count": 6,
   "id": "8c6102ee-3242-4f29-ad3f-b37dfcd19b13",
   "metadata": {
    "tags": []
   },
   "outputs": [
    {
     "data": {
      "text/html": [
       "<div>\n",
       "<style scoped>\n",
       "    .dataframe tbody tr th:only-of-type {\n",
       "        vertical-align: middle;\n",
       "    }\n",
       "\n",
       "    .dataframe tbody tr th {\n",
       "        vertical-align: top;\n",
       "    }\n",
       "\n",
       "    .dataframe thead th {\n",
       "        text-align: right;\n",
       "    }\n",
       "</style>\n",
       "<table border=\"1\" class=\"dataframe\">\n",
       "  <thead>\n",
       "    <tr style=\"text-align: right;\">\n",
       "      <th></th>\n",
       "      <th>a_duckdb_column</th>\n",
       "    </tr>\n",
       "  </thead>\n",
       "  <tbody>\n",
       "    <tr>\n",
       "      <th>0</th>\n",
       "      <td>Off and flying!</td>\n",
       "    </tr>\n",
       "  </tbody>\n",
       "</table>\n",
       "</div>"
      ],
      "text/plain": [
       "   a_duckdb_column\n",
       "0  Off and flying!"
      ]
     },
     "execution_count": 6,
     "metadata": {},
     "output_type": "execute_result"
    }
   ],
   "source": [
    "# No need to import duckdb_engine\n",
    "#  jupysql will auto-detect the driver needed based on the connection string!\n",
    "\n",
    "%reload_ext sql\n",
    "%config SqlMagic.autopandas = True\n",
    "%config SqlMagic.feedback = False\n",
    "%config SqlMagic.displaycon = False\n",
    "\n",
    "\n",
    "%sql duckdb:///:memory:\n",
    "# %sql duckdb:///path/to/file.db\n",
    "%sql SELECT 'Off and flying!' as a_duckdb_column"
   ]
  },
  {
   "cell_type": "code",
   "execution_count": 7,
   "id": "e59b9a01-5f7b-4ad6-912c-89bc292e21b3",
   "metadata": {
    "tags": []
   },
   "outputs": [
    {
     "data": {
      "text/html": [
       "<div>\n",
       "<style scoped>\n",
       "    .dataframe tbody tr th:only-of-type {\n",
       "        vertical-align: middle;\n",
       "    }\n",
       "\n",
       "    .dataframe tbody tr th {\n",
       "        vertical-align: top;\n",
       "    }\n",
       "\n",
       "    .dataframe thead th {\n",
       "        text-align: right;\n",
       "    }\n",
       "</style>\n",
       "<table border=\"1\" class=\"dataframe\">\n",
       "  <thead>\n",
       "    <tr style=\"text-align: right;\">\n",
       "      <th></th>\n",
       "      <th>schema_name</th>\n",
       "      <th>function_name</th>\n",
       "    </tr>\n",
       "  </thead>\n",
       "  <tbody>\n",
       "    <tr>\n",
       "      <th>0</th>\n",
       "      <td>pg_catalog</td>\n",
       "      <td>shobj_description</td>\n",
       "    </tr>\n",
       "    <tr>\n",
       "      <th>1</th>\n",
       "      <td>pg_catalog</td>\n",
       "      <td>pg_typeof</td>\n",
       "    </tr>\n",
       "    <tr>\n",
       "      <th>2</th>\n",
       "      <td>pg_catalog</td>\n",
       "      <td>pg_type_is_visible</td>\n",
       "    </tr>\n",
       "    <tr>\n",
       "      <th>3</th>\n",
       "      <td>pg_catalog</td>\n",
       "      <td>pg_ts_template_is_visible</td>\n",
       "    </tr>\n",
       "    <tr>\n",
       "      <th>4</th>\n",
       "      <td>pg_catalog</td>\n",
       "      <td>pg_ts_parser_is_visible</td>\n",
       "    </tr>\n",
       "  </tbody>\n",
       "</table>\n",
       "</div>"
      ],
      "text/plain": [
       "  schema_name              function_name\n",
       "0  pg_catalog          shobj_description\n",
       "1  pg_catalog                  pg_typeof\n",
       "2  pg_catalog         pg_type_is_visible\n",
       "3  pg_catalog  pg_ts_template_is_visible\n",
       "4  pg_catalog    pg_ts_parser_is_visible"
      ]
     },
     "execution_count": 7,
     "metadata": {},
     "output_type": "execute_result"
    }
   ],
   "source": [
    "%%sql\n",
    "SELECT\n",
    "    schema_name,\n",
    "    function_name\n",
    "FROM duckdb_functions()\n",
    "ORDER BY ALL DESC\n",
    "LIMIT 5"
   ]
  },
  {
   "cell_type": "code",
   "execution_count": 8,
   "id": "dac0da3f-210f-40fb-96c0-e77b82a406d7",
   "metadata": {
    "tags": []
   },
   "outputs": [],
   "source": [
    "%sql my_df << SELECT 'Off and flying!' as a_duckdb_column"
   ]
  },
  {
   "cell_type": "code",
   "execution_count": 9,
   "id": "90d2eceb-d231-49ef-a09f-0cfbe412a68a",
   "metadata": {
    "tags": []
   },
   "outputs": [],
   "source": [
    "\n",
    "\n",
    "input_df = pd.DataFrame.from_dict({\"i\":[1, 2, 3],\n",
    "                                  \"j\":[\"one\", \"two\", \"three\"]})\n"
   ]
  },
  {
   "cell_type": "code",
   "execution_count": 10,
   "id": "bdff3adf-06f0-402a-a0d5-4ae5d78f9643",
   "metadata": {
    "tags": []
   },
   "outputs": [],
   "source": [
    "%sql output_df << SELECT sum(i) as total_i FROM input_df"
   ]
  },
  {
   "cell_type": "code",
   "execution_count": 11,
   "id": "f1f49d3b-c0f0-4e9d-874c-4e0f01ffc885",
   "metadata": {
    "tags": []
   },
   "outputs": [
    {
     "data": {
      "text/html": [
       "<div>\n",
       "<style scoped>\n",
       "    .dataframe tbody tr th:only-of-type {\n",
       "        vertical-align: middle;\n",
       "    }\n",
       "\n",
       "    .dataframe tbody tr th {\n",
       "        vertical-align: top;\n",
       "    }\n",
       "\n",
       "    .dataframe thead th {\n",
       "        text-align: right;\n",
       "    }\n",
       "</style>\n",
       "<table border=\"1\" class=\"dataframe\">\n",
       "  <thead>\n",
       "    <tr style=\"text-align: right;\">\n",
       "      <th></th>\n",
       "    </tr>\n",
       "  </thead>\n",
       "  <tbody>\n",
       "  </tbody>\n",
       "</table>\n",
       "</div>"
      ],
      "text/plain": [
       "Empty DataFrame\n",
       "Columns: []\n",
       "Index: []"
      ]
     },
     "execution_count": 11,
     "metadata": {},
     "output_type": "execute_result"
    }
   ],
   "source": [
    "%%sql\n",
    "INSTALL httpfs;\n",
    "LOAD httpfs;"
   ]
  },
  {
   "cell_type": "code",
   "execution_count": 12,
   "id": "c83c7316-612f-42be-a707-cdf4332d9210",
   "metadata": {
    "tags": []
   },
   "outputs": [
    {
     "data": {
      "text/plain": [
       "<Axes: title={'center': \"'trip_distance' from 'https://d37ci6vzurychx.cloudfront.net/trip-data/yellow_tripdata_2021-01.parquet'\"}, ylabel='trip_distance'>"
      ]
     },
     "execution_count": 12,
     "metadata": {},
     "output_type": "execute_result"
    },
    {
     "data": {
      "image/png": "[encoded data removed]",
      "text/plain": [
       "<Figure size 640x480 with 1 Axes>"
      ]
     },
     "metadata": {},
     "output_type": "display_data"
    }
   ],
   "source": [
    "%sqlplot boxplot --table https://d37ci6vzurychx.cloudfront.net/trip-data/yellow_tripdata_2021-01.parquet --column trip_distance"
   ]
  },
  {
   "cell_type": "code",
   "execution_count": null,
   "id": "a2b3fecd-f81d-45b7-8c2d-ea5c48993efc",
   "metadata": {},
   "outputs": [],
   "source": []
  }
 ],
 "metadata": {
  "kernelspec": {
   "display_name": "Python 3 (ipykernel)",
   "language": "python",
   "name": "python3"
  },
  "language_info": {
   "codemirror_mode": {
    "name": "ipython",
    "version": 3
   },
   "file_extension": ".py",
   "mimetype": "text/x-python",
   "name": "python",
   "nbconvert_exporter": "python",
   "pygments_lexer": "ipython3",
   "version": "3.10.11"
  }
 },
 "nbformat": 4,
 "nbformat_minor": 5
}
